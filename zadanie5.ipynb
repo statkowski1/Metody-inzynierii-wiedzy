{
 "cells": [
  {
   "cell_type": "code",
   "execution_count": 1,
   "id": "e5bf95fe",
   "metadata": {},
   "outputs": [],
   "source": [
    "import numpy as np\n",
    "np.set_printoptions(suppress=True)\n",
    "\n",
    "def macierz_odwrotna(macierz):\n",
    "    if macierz.shape[0]!=macierz.shape[1] and macierz.shape[0]<=3 and macierz.shape[1]<=3:\n",
    "        return \"Dana macierz nie jest kwadratowa lub jej wymiary nie są większe niż 3x3! Podaj prawidłowe dane!\"\n",
    "    else:\n",
    "        macierz_jednostkowa = np.eye(macierz.shape[0], macierz.shape[1])\n",
    "        copy = np.zeros((macierz.shape[0], macierz.shape[1]))\n",
    "        for i in range(0, macierz.shape[0]):\n",
    "            for j in range(0, macierz.shape[1]):\n",
    "                copy[i][j] = macierz[i][j]\n",
    "        for i in range(0, macierz.shape[0]):\n",
    "            tmp = copy[i][i]\n",
    "            for l in range(0, macierz.shape[0]):\n",
    "                copy[i][l] = copy[i][l]/tmp\n",
    "                macierz_jednostkowa[i][l] = macierz_jednostkowa[i][l]/tmp\n",
    "            for j in range(0, macierz.shape[0]):\n",
    "                if j!=i:\n",
    "                    tmp = copy[j][i]\n",
    "                    for k in range(0, macierz.shape[1]):\n",
    "                        copy[j][k] = copy[j][k] - tmp * copy[i][k]\n",
    "                        macierz_jednostkowa[j][k] = macierz_jednostkowa[j][k] - tmp * macierz_jednostkowa[i][k]\n",
    "        return macierz_jednostkowa, copy"
   ]
  },
  {
   "cell_type": "code",
   "execution_count": 2,
   "id": "1b91e847",
   "metadata": {},
   "outputs": [
    {
     "name": "stdout",
     "output_type": "stream",
     "text": [
      "[[ 0.01333333  0.13666667  0.03333333 -0.01666667 -0.1       ]\n",
      " [-0.2         0.2         0.          0.          0.        ]\n",
      " [ 0.46666667 -0.46666667 -0.33333333 -0.          0.33333333]\n",
      " [-0.12        0.145       0.45       -0.05833333 -0.18333333]\n",
      " [-0.53333333  0.28333333  0.16666667  0.25       -0.16666667]]\n",
      "[[ 0.01333333  0.13666667  0.03333333 -0.01666667 -0.1       ]\n",
      " [-0.2         0.2         0.         -0.          0.        ]\n",
      " [ 0.46666667 -0.46666667 -0.33333333  0.          0.33333333]\n",
      " [-0.12        0.145       0.45       -0.05833333 -0.18333333]\n",
      " [-0.53333333  0.28333333  0.16666667  0.25       -0.16666667]]\n",
      "[[ 1.  0.  0.  0.  0.]\n",
      " [ 0.  1.  0.  0.  0.]\n",
      " [ 0.  0.  1.  0.  0.]\n",
      " [-0. -0. -0.  1.  0.]\n",
      " [-0. -0. -0. -0.  1.]]\n",
      "[[ 0.02222222  0.2        -0.33333333  0.73333333 -0.37777778]\n",
      " [ 0.24444444 -0.2         0.33333333 -0.93333333  0.44444444]\n",
      " [-0.05555556 -0.          0.33333333 -0.33333333 -0.05555556]\n",
      " [ 0.12222222 -0.2        -0.33333333  0.53333333  0.12222222]\n",
      " [-0.16666667  0.2        -0.         -0.          0.03333333]]\n",
      "[[ 0.02222222  0.2        -0.33333333  0.73333333 -0.37777778]\n",
      " [ 0.24444444 -0.2         0.33333333 -0.93333333  0.44444444]\n",
      " [-0.05555556 -0.          0.33333333 -0.33333333 -0.05555556]\n",
      " [ 0.12222222 -0.2        -0.33333333  0.53333333  0.12222222]\n",
      " [-0.16666667  0.2         0.         -0.          0.03333333]]\n",
      "[[1. 0. 0. 0. 0.]\n",
      " [0. 1. 0. 0. 0.]\n",
      " [0. 0. 1. 0. 0.]\n",
      " [0. 0. 0. 1. 0.]\n",
      " [0. 0. 0. 0. 1.]]\n"
     ]
    }
   ],
   "source": [
    "matrix = np.array([[8, 1, 4, 2, 1], [8, 6, 4, 2, 1], [1, 2, 3, 4, 1], [8, 0, 6, 2, 5], [1, 9, 6, 4, 1]])\n",
    "print(macierz_odwrotna(matrix)[0])\n",
    "print(np.linalg.inv(matrix))\n",
    "print(macierz_odwrotna(matrix)[1])\n",
    "matrix2 = np.array([[5, 4, 3, 2, 1], [4, 3, 2, 1, 5], [3, 2, 9, 5, 4], [2, 1, 5, 4, 3], [1, 2, 3, 4, 5]])\n",
    "print(macierz_odwrotna(matrix2)[0])\n",
    "print(np.linalg.inv(matrix2))\n",
    "print(macierz_odwrotna(matrix2)[1])"
   ]
  },
  {
   "cell_type": "markdown",
   "id": "e6b977a5",
   "metadata": {},
   "source": []
  }
 ],
 "metadata": {
  "kernelspec": {
   "display_name": "Python 3 (ipykernel)",
   "language": "python",
   "name": "python3"
  },
  "language_info": {
   "codemirror_mode": {
    "name": "ipython",
    "version": 3
   },
   "file_extension": ".py",
   "mimetype": "text/x-python",
   "name": "python",
   "nbconvert_exporter": "python",
   "pygments_lexer": "ipython3",
   "version": "3.9.13"
  }
 },
 "nbformat": 4,
 "nbformat_minor": 5
}
