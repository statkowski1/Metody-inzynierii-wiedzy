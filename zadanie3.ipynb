{
 "cells": [
  {
   "cell_type": "code",
   "execution_count": 1,
   "id": "df42dd91",
   "metadata": {},
   "outputs": [],
   "source": [
    "import numpy as np\n",
    "\n",
    "#zadanie 1\n",
    "def macierz_odwrotna_2x2(macierz):\n",
    "    if macierz.shape[0]!=2 and macierz.shape[1]!=2: #sprawdzam czy macierz ma wymiary 2x2\n",
    "        return \"Błąd! Macierz nie ma wymiarów 2x2!\" #zwracam komunikat o nieodpowiednich wymiarach macierzy\n",
    "    else:\n",
    "        det = macierz[0][0]*macierz[1][1] - macierz[0][1]*macierz[1][0] #obliczam wyznacznik macierzy\n",
    "        if det==0: #jeśli wyznanik wynosi 0 zwracam komunikat o niemożliwości odwrócenia macierzy\n",
    "            return \"Wyznacznik wynosi zero, więc nie da się obliczyć macierzy odwrotnej!\"\n",
    "        else: #jeśli możliwe jest obliczenie macierzy to jest ona obliczana tzn. przeszła przez poprzednie warunki\n",
    "            macierz_odwrotna = np.zeros((2, 2)) #deklaruje pustą tablicę 2x2\n",
    "            #obliczam macierz odwrotną\n",
    "            macierz_odwrotna[0][0] = macierz[1][1]\n",
    "            macierz_odwrotna[0][1] = -macierz[0][1]\n",
    "            macierz_odwrotna[1][0] = -macierz[1][0]\n",
    "            macierz_odwrotna[1][1] = macierz[0][0]\n",
    "            macierz_odwrotna = macierz_odwrotna/det\n",
    "            return macierz_odwrotna"
   ]
  },
  {
   "cell_type": "code",
   "execution_count": 2,
   "id": "4f6bfb3a",
   "metadata": {},
   "outputs": [
    {
     "name": "stdout",
     "output_type": "stream",
     "text": [
      "[[ 3. -1.]\n",
      " [-5.  2.]]\n"
     ]
    }
   ],
   "source": [
    "A = np.array([[2, 1], [5, 3]])\n",
    "print(macierz_odwrotna_2x2(A))"
   ]
  },
  {
   "cell_type": "code",
   "execution_count": 3,
   "id": "263743aa",
   "metadata": {},
   "outputs": [
    {
     "name": "stdout",
     "output_type": "stream",
     "text": [
      "[[ 3. -1.]\n",
      " [-5.  2.]]\n"
     ]
    }
   ],
   "source": [
    "print(np.linalg.inv(A))"
   ]
  },
  {
   "cell_type": "code",
   "execution_count": 4,
   "id": "f9e2f32e",
   "metadata": {},
   "outputs": [
    {
     "name": "stdout",
     "output_type": "stream",
     "text": [
      "Wyznacznik wynosi zero, więc nie da się obliczyć macierzy odwrotnej!\n"
     ]
    }
   ],
   "source": [
    "B = np.array([[-3, -9], [1, 3]])\n",
    "print(macierz_odwrotna_2x2(B))"
   ]
  },
  {
   "cell_type": "code",
   "execution_count": 5,
   "id": "b31746bb",
   "metadata": {},
   "outputs": [
    {
     "name": "stdout",
     "output_type": "stream",
     "text": [
      "[[-6.00479950e+15 -1.80143985e+16]\n",
      " [ 2.00159983e+15  6.00479950e+15]]\n"
     ]
    }
   ],
   "source": [
    "print(np.linalg.inv(B))"
   ]
  },
  {
   "cell_type": "code",
   "execution_count": 6,
   "id": "6f81cb46",
   "metadata": {},
   "outputs": [],
   "source": [
    "#zadanie 2\n",
    "def macierz_odwrotna_3x3(macierz):\n",
    "    if macierz.shape[0]!=3 and macierz.shape[1]!=3: #sprawdzam czy macierz ma wymiary 3x3\n",
    "        return \"Błąd! Macierz nie ma wymiarów 3x3!\" #zwracam komunikat o nieodpowiednich wymiarach macierzy\n",
    "    else:\n",
    "        #obliczam wyznacznik macierzy\n",
    "        det = macierz[0][0]*macierz[1][1]*macierz[2][2] + macierz[1][0]*macierz[2][1]*macierz[0][2] + macierz[2][0]*macierz[0][1]*macierz[1][2] - macierz[0][0]*macierz[2][1]*macierz[1][2] - macierz[2][0]*macierz[1][1]*macierz[0][2] - macierz[1][0]*macierz[0][1]*macierz[2][2]\n",
    "        if det==0: #jeśli wyznanik wynosi 0 zwracam komunikat o niemożliwości odwrócenia macierzy\n",
    "            return \"Wyznacznik wynosi zero, więc nie da się obliczyć macierzy odwrotnej!\"\n",
    "        else: #jeśli możliwe jest obliczenie macierzy to jest ona obliczana tzn. przeszła przez poprzednie warunki\n",
    "            macierz_odwrotna = np.zeros((3, 3)) #deklaruje pustą tablicę 3x3\n",
    "            #obliczam macierz odwrotną\n",
    "            macierz_odwrotna[0][0] = macierz[1][1]*macierz[2][2] - macierz[1][2]*macierz[2][1]\n",
    "            macierz_odwrotna[0][1] = macierz[0][2]*macierz[2][1] - macierz[0][1]*macierz[2][2]\n",
    "            macierz_odwrotna[0][2] = macierz[0][1]*macierz[1][2] - macierz[0][2]*macierz[1][1]\n",
    "            macierz_odwrotna[1][0] = macierz[1][2]*macierz[2][0] - macierz[1][0]*macierz[2][2]\n",
    "            macierz_odwrotna[1][1] = macierz[0][0]*macierz[2][2] - macierz[0][2]*macierz[2][0]\n",
    "            macierz_odwrotna[1][2] = macierz[0][2]*macierz[1][0] - macierz[0][0]*macierz[1][2]\n",
    "            macierz_odwrotna[2][0] = macierz[1][0]*macierz[2][1] - macierz[1][1]*macierz[2][0]\n",
    "            macierz_odwrotna[2][1] = macierz[0][1]*macierz[2][0] - macierz[0][0]*macierz[2][1]\n",
    "            macierz_odwrotna[2][2] = macierz[0][0]*macierz[1][1] - macierz[0][1]*macierz[1][0]\n",
    "            macierz_odwrotna = macierz_odwrotna/det\n",
    "            return macierz_odwrotna"
   ]
  },
  {
   "cell_type": "code",
   "execution_count": 7,
   "id": "a2b4514f",
   "metadata": {},
   "outputs": [
    {
     "name": "stdout",
     "output_type": "stream",
     "text": [
      "[[ 0.01574803 -0.05905512  0.13779528]\n",
      " [-0.17322835  0.1496063  -0.01574803]\n",
      " [ 0.19685039  0.01181102 -0.02755906]]\n"
     ]
    }
   ],
   "source": [
    "C = np.array([[1, 0, 5], [2, 7, 6], [8, 3, 2]])\n",
    "print(macierz_odwrotna_3x3(C))"
   ]
  },
  {
   "cell_type": "code",
   "execution_count": 8,
   "id": "c2cae041",
   "metadata": {},
   "outputs": [
    {
     "name": "stdout",
     "output_type": "stream",
     "text": [
      "[[ 0.01574803 -0.05905512  0.13779528]\n",
      " [-0.17322835  0.1496063  -0.01574803]\n",
      " [ 0.19685039  0.01181102 -0.02755906]]\n"
     ]
    }
   ],
   "source": [
    "print(np.linalg.inv(C))"
   ]
  },
  {
   "cell_type": "code",
   "execution_count": 9,
   "id": "628ac2b1",
   "metadata": {},
   "outputs": [
    {
     "name": "stdout",
     "output_type": "stream",
     "text": [
      "Wyznacznik wynosi zero, więc nie da się obliczyć macierzy odwrotnej!\n"
     ]
    }
   ],
   "source": [
    "D = np.array([[3, -1, 1], [5, 1, 4], [-1, 3, 2]])\n",
    "print(macierz_odwrotna_3x3(D))"
   ]
  },
  {
   "cell_type": "code",
   "execution_count": 10,
   "id": "32eb09c4",
   "metadata": {},
   "outputs": [
    {
     "name": "stdout",
     "output_type": "stream",
     "text": [
      "[[ 1.40737488e+15 -7.03687442e+14  7.03687442e+14]\n",
      " [ 1.97032484e+15 -9.85162418e+14  9.85162418e+14]\n",
      " [-2.25179981e+15  1.12589991e+15 -1.12589991e+15]]\n"
     ]
    }
   ],
   "source": [
    "print(np.linalg.inv(D))"
   ]
  },
  {
   "cell_type": "code",
   "execution_count": 11,
   "id": "2778d339",
   "metadata": {},
   "outputs": [],
   "source": [
    "#zadanie 3\n",
    "def macierz_odwrotna_2x2_lub_3x3(macierz):\n",
    "    if (macierz.shape[0]!=2 or macierz.shape[1]!=2) and (macierz.shape[0]!=3 or macierz.shape[1]!=3): #sprawdzam czy macierz ma wymiary 2x2 lub 3x3\n",
    "        return \"Błąd! Macierz nie ma wymiarów 2x2 ani 3x3!\" #zwracam komunikat o nieodpowiednich wymiarach macierzy\n",
    "    else: #jeśli macierzy ma wymiary 2x2 lub 3x3 przechodzę do tego warunku\n",
    "        if macierz.shape[0]==2: #jeśli macierz ma wymiary 2x2 to przechodzę do tego warunku\n",
    "            det = macierz[0][0]*macierz[1][1] - macierz[0][1]*macierz[1][0] #obliczam wyznacznik macierzy\n",
    "            if det==0: #jeśli wyznanik wynosi 0 zwracam komunikat o niemożliwości odwrócenia macierzy\n",
    "                return \"Wyznacznik wynosi zero, więc nie da się obliczyć macierzy odwrotnej!\"\n",
    "            else:\n",
    "                macierz_odwrotna = np.zeros((2, 2)) #deklaruje pustą tablicę 2x2\n",
    "                #obliczam macierz odwrotną\n",
    "                macierz_odwrotna[0][0] = macierz[1][1]\n",
    "                macierz_odwrotna[0][1] = -macierz[0][1]\n",
    "                macierz_odwrotna[1][0] = -macierz[1][0]\n",
    "                macierz_odwrotna[1][1] = macierz[0][0]\n",
    "                macierz_odwrotna = macierz_odwrotna/det\n",
    "                return macierz_odwrotna\n",
    "        elif macierz.shape[0]==3:\n",
    "            #obliczam wyznacznik macierzy\n",
    "            det = macierz[0][0]*macierz[1][1]*macierz[2][2] + macierz[1][0]*macierz[2][1]*macierz[0][2] + macierz[2][0]*macierz[0][1]*macierz[1][2] - macierz[0][0]*macierz[2][1]*macierz[1][2] - macierz[2][0]*macierz[1][1]*macierz[0][2] - macierz[1][0]*macierz[0][1]*macierz[2][2]\n",
    "            if det==0: #jeśli wyznanik wynosi 0 zwracam komunikat o niemożliwości odwrócenia macierzy\n",
    "                return \"Wyznacznik wynosi zero, więc nie da się obliczyć macierzy odwrotnej!\"\n",
    "            else:\n",
    "                macierz_odwrotna = np.zeros((3, 3)) #deklaruje pustą tablicę 3x3\n",
    "                #obliczam macierz odwrotną\n",
    "                macierz_odwrotna[0][0] = macierz[1][1]*macierz[2][2] - macierz[1][2]*macierz[2][1]\n",
    "                macierz_odwrotna[0][1] = macierz[0][2]*macierz[2][1] - macierz[0][1]*macierz[2][2]\n",
    "                macierz_odwrotna[0][2] = macierz[0][1]*macierz[1][2] - macierz[0][2]*macierz[1][1]\n",
    "                macierz_odwrotna[1][0] = macierz[1][2]*macierz[2][0] - macierz[1][0]*macierz[2][2]\n",
    "                macierz_odwrotna[1][1] = macierz[0][0]*macierz[2][2] - macierz[0][2]*macierz[2][0]\n",
    "                macierz_odwrotna[1][2] = macierz[0][2]*macierz[1][0] - macierz[0][0]*macierz[1][2]\n",
    "                macierz_odwrotna[2][0] = macierz[1][0]*macierz[2][1] - macierz[1][1]*macierz[2][0]\n",
    "                macierz_odwrotna[2][1] = macierz[0][1]*macierz[2][0] - macierz[0][0]*macierz[2][1]\n",
    "                macierz_odwrotna[2][2] = macierz[0][0]*macierz[1][1] - macierz[0][1]*macierz[1][0]\n",
    "                macierz_odwrotna = macierz_odwrotna/det\n",
    "                return macierz_odwrotna"
   ]
  },
  {
   "cell_type": "code",
   "execution_count": 12,
   "id": "81e0ff35",
   "metadata": {},
   "outputs": [
    {
     "name": "stdout",
     "output_type": "stream",
     "text": [
      "[[ 3. -1.]\n",
      " [-5.  2.]]\n"
     ]
    }
   ],
   "source": [
    "print(macierz_odwrotna_2x2_lub_3x3(A))"
   ]
  },
  {
   "cell_type": "code",
   "execution_count": 13,
   "id": "def8210a",
   "metadata": {},
   "outputs": [
    {
     "name": "stdout",
     "output_type": "stream",
     "text": [
      "Wyznacznik wynosi zero, więc nie da się obliczyć macierzy odwrotnej!\n"
     ]
    }
   ],
   "source": [
    "print(macierz_odwrotna_2x2_lub_3x3(B))"
   ]
  },
  {
   "cell_type": "code",
   "execution_count": 14,
   "id": "a3b29a9e",
   "metadata": {},
   "outputs": [
    {
     "name": "stdout",
     "output_type": "stream",
     "text": [
      "[[ 0.01574803 -0.05905512  0.13779528]\n",
      " [-0.17322835  0.1496063  -0.01574803]\n",
      " [ 0.19685039  0.01181102 -0.02755906]]\n"
     ]
    }
   ],
   "source": [
    "print(macierz_odwrotna_2x2_lub_3x3(C))"
   ]
  },
  {
   "cell_type": "code",
   "execution_count": 15,
   "id": "74a2693c",
   "metadata": {},
   "outputs": [
    {
     "name": "stdout",
     "output_type": "stream",
     "text": [
      "Wyznacznik wynosi zero, więc nie da się obliczyć macierzy odwrotnej!\n"
     ]
    }
   ],
   "source": [
    "print(macierz_odwrotna_2x2_lub_3x3(D))"
   ]
  },
  {
   "cell_type": "code",
   "execution_count": null,
   "id": "1d90fc90",
   "metadata": {},
   "outputs": [],
   "source": []
  }
 ],
 "metadata": {
  "kernelspec": {
   "display_name": "Python 3 (ipykernel)",
   "language": "python",
   "name": "python3"
  },
  "language_info": {
   "codemirror_mode": {
    "name": "ipython",
    "version": 3
   },
   "file_extension": ".py",
   "mimetype": "text/x-python",
   "name": "python",
   "nbconvert_exporter": "python",
   "pygments_lexer": "ipython3",
   "version": "3.9.13"
  }
 },
 "nbformat": 4,
 "nbformat_minor": 5
}
