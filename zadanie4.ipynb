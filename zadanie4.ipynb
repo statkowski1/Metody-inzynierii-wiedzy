{
 "cells": [
  {
   "cell_type": "code",
   "execution_count": 1,
   "id": "42441178",
   "metadata": {},
   "outputs": [
    {
     "name": "stdout",
     "output_type": "stream",
     "text": [
      "(6.0, -5.0)\n",
      "(-1.0, 1.0, -2.0)\n"
     ]
    }
   ],
   "source": [
    "import numpy as np\n",
    "\n",
    "#zadanie 1\n",
    "def rownania_liniowe(arg):\n",
    "    if arg.shape[0]==2 and arg.shape[1]==3:\n",
    "        D = arg[0][0]*arg[1][1] - arg[0][1]*arg[1][0]\n",
    "        Dx = arg[0][2]*arg[1][1] - arg[0][1]*arg[1][2]\n",
    "        Dy = arg[0][0]*arg[1][2] - arg[0][2]*arg[1][0]\n",
    "        x = Dx/D\n",
    "        y = Dy/D\n",
    "        return x, y\n",
    "    elif arg.shape[0]==3 and arg.shape[1]==4:\n",
    "        D = arg[0][0]*arg[1][1]*arg[2][2] + arg[0][1]*arg[1][2]*arg[2][0] + arg[0][2]*arg[1][0]*arg[2][1] - arg[0][2]*arg[1][1]*arg[2][0] - arg[1][2]*arg[2][1]*arg[0][0] - arg[2][2]*arg[0][1]*arg[1][0]\n",
    "        Dx = arg[0][3]*arg[1][1]*arg[2][2] + arg[0][1]*arg[1][2]*arg[2][3] + arg[0][2]*arg[1][3]*arg[2][1] - arg[0][2]*arg[1][1]*arg[2][3] - arg[1][2]*arg[2][1]*arg[0][3] - arg[2][2]*arg[0][1]*arg[1][3]\n",
    "        Dy = arg[0][0]*arg[1][3]*arg[2][2] + arg[0][3]*arg[1][2]*arg[2][0] + arg[0][2]*arg[1][0]*arg[2][3] - arg[0][2]*arg[1][3]*arg[2][0] - arg[1][2]*arg[2][3]*arg[0][0] - arg[2][2]*arg[0][3]*arg[1][0]\n",
    "        Dz = arg[0][0]*arg[1][1]*arg[2][3] + arg[0][1]*arg[1][3]*arg[2][0] + arg[0][3]*arg[1][0]*arg[2][1] - arg[0][3]*arg[1][1]*arg[2][0] - arg[1][3]*arg[2][1]*arg[0][0] - arg[2][3]*arg[0][1]*arg[1][0]\n",
    "        x = Dx/D\n",
    "        y = Dy/D\n",
    "        z = Dz/D\n",
    "        return x, y, z\n",
    "    else:\n",
    "        return \"Błąd! Została podana nieprawidłowa ilość danych!\"\n",
    "    \n",
    "a = np.array([[3, 5, -7], [1, 4, -14]])\n",
    "b = np.array([[1, 2, 3, -5], [3, 1, -3, 4], [-3, 4, 7, -7]])\n",
    "\n",
    "print(rownania_liniowe(a))\n",
    "print(rownania_liniowe(b))"
   ]
  },
  {
   "cell_type": "code",
   "execution_count": null,
   "id": "df623208",
   "metadata": {},
   "outputs": [],
   "source": []
  }
 ],
 "metadata": {
  "kernelspec": {
   "display_name": "Python 3 (ipykernel)",
   "language": "python",
   "name": "python3"
  },
  "language_info": {
   "codemirror_mode": {
    "name": "ipython",
    "version": 3
   },
   "file_extension": ".py",
   "mimetype": "text/x-python",
   "name": "python",
   "nbconvert_exporter": "python",
   "pygments_lexer": "ipython3",
   "version": "3.9.13"
  }
 },
 "nbformat": 4,
 "nbformat_minor": 5
}
