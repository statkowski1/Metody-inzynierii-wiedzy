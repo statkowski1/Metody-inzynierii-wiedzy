{
 "cells": [
  {
   "cell_type": "code",
   "execution_count": 1,
   "id": "e7bc0861",
   "metadata": {},
   "outputs": [
    {
     "name": "stdout",
     "output_type": "stream",
     "text": [
      "[[ 4.  4. 16.]\n",
      " [ 7. 21. 23.]\n",
      " [14. 20. 50.]]\n"
     ]
    }
   ],
   "source": [
    "import numpy as np\n",
    "\n",
    "#zadanie 1\n",
    "def mnozenie_macierzy(macierz_A, macierz_B):\n",
    "    if macierz_A.shape[1] != macierz_B.shape[0]: #sprawdzam warunkiem czy macierze mają odpowiednie wymiary\n",
    "        return \"Błąd w mnożeniu macierzy! Macierze nie mają odpowiednich wymiarów, aby można byłoby je pomnożyć!\"\n",
    "    else:\n",
    "        macierz_C = np.zeros((macierz_A.shape[0], macierz_B.shape[1])) #deklaruje macierz wypełnioną zerami, która ma przechować wyniki mnożenia\n",
    "        \n",
    "        #pętla która odpowiada za obliczenie wyniku mnożenia dwóch macierzy\n",
    "        for i in range(0, macierz_C.shape[0]):\n",
    "            for j in range(0, macierz_C.shape[1]):\n",
    "                for k in range(0, macierz_A.shape[1]):\n",
    "                    macierz_C[i][j] += macierz_A[i][k] * macierz_B[k][j]\n",
    "        return macierz_C\n",
    "    \n",
    "A = np.array([[2, 1, 1], [1, 3, 6], [4, 5, 5]])\n",
    "B = np.array([[1, 0, 5], [2, 1, 6], [0, 3, 0]])\n",
    "print(mnozenie_macierzy(A, B))"
   ]
  },
  {
   "cell_type": "code",
   "execution_count": 3,
   "id": "f668484c",
   "metadata": {},
   "outputs": [
    {
     "name": "stdout",
     "output_type": "stream",
     "text": [
      "-2\n"
     ]
    }
   ],
   "source": [
    "#zadanie 2\n",
    "def wyznacznik_macierzy_3x3(macierz):\n",
    "    if macierz.shape[0] != 3 and macierz.shape[1] != 3: #sprawdzam czy macierz ma odpowiednie wymiary\n",
    "        return \"Błąd! Macierz nie ma wymiarów 3x3!\"\n",
    "    else:\n",
    "        #zwracam wyznacznik macierzy jako działanie stosując motodę Sarrusa\n",
    "        return macierz[0][0]*macierz[1][1]*macierz[2][2] + macierz[0][1]*macierz[1][2]*macierz[2][0] + macierz[0][2]*macierz[1][0]*macierz[2][1] - macierz[0][2]*macierz[1][1]*macierz[2][0] - macierz[1][2]*macierz[2][1]*macierz[0][0] - macierz[2][2]*macierz[0][1]*macierz[1][0]\n",
    "\n",
    "x = np.array([[1, 4, 5], [2, 1, 6], [0, 3, 2]])\n",
    "print(wyznacznik_macierzy_3x3(x))"
   ]
  },
  {
   "cell_type": "code",
   "execution_count": 4,
   "id": "a9cf4f7d",
   "metadata": {},
   "outputs": [
    {
     "name": "stdout",
     "output_type": "stream",
     "text": [
      "[[3. 2. 7.]\n",
      " [2. 3. 7.]\n",
      " [4. 5. 2.]\n",
      " [1. 6. 1.]\n",
      " [8. 0. 4.]\n",
      " [0. 3. 5.]]\n"
     ]
    }
   ],
   "source": [
    "#zadanie 3\n",
    "def transponowanie_macierzy(macierz):\n",
    "    wynik = np.zeros((macierz.shape[1], macierz.shape[0])) #wypełniam zerami pustą tablicę zamieniając odwrotnie rozmiar wierszy i kolumn\n",
    "    \n",
    "    #pętla która przypisuje liczby tak aby stworzyć transponowaną macierz\n",
    "    for i in range(0, wynik.shape[0]):\n",
    "        for j in range(0, wynik.shape[1]):\n",
    "            wynik[i][j] = macierz[j][i]\n",
    "    return wynik\n",
    "\n",
    "t = np.array([[3, 2, 4, 1, 8, 0], [2, 3, 5, 6, 0, 3], [7, 7, 2, 1, 4, 5]])\n",
    "print(transponowanie_macierzy(t))"
   ]
  },
  {
   "cell_type": "code",
   "execution_count": null,
   "id": "ab168e19",
   "metadata": {},
   "outputs": [],
   "source": []
  }
 ],
 "metadata": {
  "kernelspec": {
   "display_name": "Python 3 (ipykernel)",
   "language": "python",
   "name": "python3"
  },
  "language_info": {
   "codemirror_mode": {
    "name": "ipython",
    "version": 3
   },
   "file_extension": ".py",
   "mimetype": "text/x-python",
   "name": "python",
   "nbconvert_exporter": "python",
   "pygments_lexer": "ipython3",
   "version": "3.9.13"
  }
 },
 "nbformat": 4,
 "nbformat_minor": 5
}
