{
 "cells": [
  {
   "cell_type": "code",
   "execution_count": 1,
   "id": "9b693876",
   "metadata": {},
   "outputs": [],
   "source": [
    "import numpy as np\n",
    "\n",
    "def rzad_macierzy(macierz):\n",
    "    if macierz.shape[0]!=macierz.shape[1] or macierz.shape[0]>4 or macierz.shape[1]>4:\n",
    "        return \"Macierz ma być kwadratowa i obejmuje rozmiar maksymalnie 4x4\"\n",
    "    elif macierz.shape[0]==2:\n",
    "        #sprawdzam czy rząd wynosi 2\n",
    "        det = macierz[0][0]*macierz[1][1] - macierz[0][1]*macierz[1][0]\n",
    "        if det!=0:\n",
    "            return 2\n",
    "        else:\n",
    "            #sprawdzam czy rząd wynosi 1\n",
    "            for i in range(0, macierz.shape[0]):\n",
    "                for j in range(0, macierz.shape[1]):\n",
    "                    if macierz[i][j]!=0:\n",
    "                        return 1\n",
    "            #rząd wynosi 0\n",
    "            return 0\n",
    "    elif macierz.shape[0]==3:\n",
    "        #sprawdzam czy rząd wynosi 3\n",
    "        det = macierz[0][0]*macierz[1][1]*macierz[2][2] + macierz[1][0]*macierz[2][1]*macierz[0][2] + macierz[2][0]*macierz[0][1]*macierz[1][2] - macierz[0][0]*macierz[2][1]*macierz[1][2] - macierz[2][0]*macierz[1][1]*macierz[0][2] - macierz[1][0]*macierz[0][1]*macierz[2][2]\n",
    "        if det!=0:\n",
    "            return 3\n",
    "        else:\n",
    "            #sprawdzam czy rząd wynosi 2\n",
    "            x = 0\n",
    "            y = 0\n",
    "            for i in range(0, 9):\n",
    "                tmp = np.zeros((2, 2))\n",
    "                p = 0\n",
    "                l = 0\n",
    "                for j in range(0, macierz.shape[0]):\n",
    "                    for k in range(0, macierz.shape[1]):\n",
    "                        if j!=x and k!=y:\n",
    "                            tmp[p][l] = macierz[j][k]\n",
    "                            l += 1\n",
    "                        if l>1:\n",
    "                            l = 0\n",
    "                            p += 1\n",
    "                det = tmp[0][0]*tmp[1][1] - tmp[0][1]*tmp[1][0]\n",
    "                if det!=0:\n",
    "                    return 2\n",
    "                y += 1\n",
    "                if y==3:\n",
    "                    y = 0\n",
    "                    x += 1\n",
    "            #sprawdzam czy rząd wynosi 1\n",
    "            for i in range(0, macierz.shape[0]):\n",
    "                for j in range(0, macierz.shape[1]):\n",
    "                    if macierz[i][j]!=0:\n",
    "                        return 1\n",
    "            #rząd wynosi 0\n",
    "            return 0\n",
    "    elif macierz.shape[0]==4:\n",
    "        #sprawdzam czy rząd wynosi 4\n",
    "        det = macierz[0][0]*macierz[1][1]*macierz[2][2]*macierz[3][3] + macierz[0][0]*macierz[1][2]*macierz[2][3]*macierz[3][1] + macierz[0][0]*macierz[1][3]*macierz[2][1]*macierz[3][2] + macierz[0][1]*macierz[1][0]*macierz[2][3]*macierz[3][2] + macierz[0][1]*macierz[1][2]*macierz[2][0]*macierz[3][3] + macierz[0][1]*macierz[1][3]*macierz[2][2]*macierz[3][0] + macierz[0][2]*macierz[1][0]*macierz[2][1]*macierz[3][3] + macierz[0][2]*macierz[1][1]*macierz[2][3]*macierz[3][0] + macierz[0][2]*macierz[1][3]*macierz[2][0]*macierz[3][1] + macierz[0][3]*macierz[1][0]*macierz[2][2]*macierz[3][1] + macierz[0][3]*macierz[1][1]*macierz[2][0]*macierz[3][2] + macierz[0][3]*macierz[1][2]*macierz[2][1]*macierz[3][0] - macierz[0][0]*macierz[1][1]*macierz[2][3]*macierz[3][2] - macierz[0][0]*macierz[1][2]*macierz[2][1]*macierz[3][3] - macierz[0][0]*macierz[1][3]*macierz[2][2]*macierz[3][1] - macierz[0][1]*macierz[1][0]*macierz[2][2]*macierz[3][3] - macierz[0][1]*macierz[1][2]*macierz[2][3]*macierz[3][0] - macierz[0][1]*macierz[1][3]*macierz[2][0]*macierz[3][2] - macierz[0][2]*macierz[1][0]*macierz[2][3]*macierz[3][1] - macierz[0][2]*macierz[1][1]*macierz[2][0]*macierz[3][3] - macierz[0][2]*macierz[1][3]*macierz[2][1]*macierz[3][0] - macierz[0][3]*macierz[1][0]*macierz[2][1]*macierz[3][2] - macierz[0][3]*macierz[1][1]*macierz[2][2]*macierz[3][0] - macierz[0][3]*macierz[1][2]*macierz[2][0]*macierz[3][1]\n",
    "        if det!=0:\n",
    "            return 4\n",
    "        else:\n",
    "            #sprawdzam czy rząd wynosi 3\n",
    "            x = 0\n",
    "            y = 0\n",
    "            for i in range(0, 16):\n",
    "                tmp = np.zeros((3, 3))\n",
    "                p = 0\n",
    "                l = 0\n",
    "                for j in range(0, macierz.shape[0]):\n",
    "                    for k in range(0, macierz.shape[1]):\n",
    "                        if j!=x and k!=y:\n",
    "                            tmp[p][l] = macierz[j][k]\n",
    "                            l += 1\n",
    "                        if l>2:\n",
    "                            l = 0\n",
    "                            p += 1\n",
    "                det = tmp[0][0]*tmp[1][1]*tmp[2][2] + tmp[1][0]*tmp[2][1]*tmp[0][2] + tmp[2][0]*tmp[0][1]*tmp[1][2] - tmp[0][0]*tmp[2][1]*tmp[1][2] - tmp[2][0]*tmp[1][1]*tmp[0][2] - tmp[1][0]*tmp[0][1]*tmp[2][2]\n",
    "                if det!=0:\n",
    "                    return 3\n",
    "                y += 1\n",
    "                if y==4:\n",
    "                    y = 0\n",
    "                    x += 1\n",
    "            #sprawdzam czy rząd wynosi 2\n",
    "            x1 = 0\n",
    "            x2 = 1\n",
    "            y1 = 0\n",
    "            y2 = 1\n",
    "            for i in range(0, 36):\n",
    "                tmp = np.zeros((2, 2))\n",
    "                p = 0\n",
    "                l = 0\n",
    "                for j in range(0, macierz.shape[0]):\n",
    "                    for k in range(0, macierz.shape[1]):\n",
    "                        if j!=x1 and j!=x2 and k!=y1 and k!=y2:\n",
    "                            tmp[p][l] = macierz[j][k]\n",
    "                            #print(\"p = \"+str(p)+\" l = \"+str(l)+\" i = \"+str(i)+\" j = \"+str(j)+\" k = \"+str(k)+\" x1 = \"+str(x1)+\" x2 = \"+str(x2)+\" y1 = \"+str(y1)+\" y2 = \"+str(y2))\n",
    "                            l += 1\n",
    "                        if l>1:\n",
    "                            l = 0\n",
    "                            p += 1\n",
    "                #print(\"tmp = \"+str(tmp))\n",
    "                det = tmp[0][0]*tmp[1][1] - tmp[0][1]*tmp[1][0]\n",
    "                if det!=0:\n",
    "                    return 2\n",
    "                z = 0\n",
    "                if x2==3 and y1==2 and y2==3 and z==0:\n",
    "                    x1 += 1\n",
    "                    x2 = x1 + 1\n",
    "                    y1 = 0\n",
    "                    y2 = y1 + 1\n",
    "                    z = 1\n",
    "                if y1==2 and z==0:\n",
    "                    x2 += 1\n",
    "                    y1 = 0\n",
    "                    y2 = y1 + 1\n",
    "                    z = 1\n",
    "                if y2==3 and z==0:\n",
    "                    y1 += 1\n",
    "                    y2 = y1 + 1\n",
    "                    z = 1\n",
    "                if z==0:\n",
    "                    y2 += 1\n",
    "            #sprawdzam czy rząd wynosi 1\n",
    "            for i in range(0, macierz.shape[0]):\n",
    "                for j in range(0, macierz.shape[1]):\n",
    "                    if macierz[i][j]!=0:\n",
    "                        return 1\n",
    "            #rząd wynosi 0\n",
    "            return 0"
   ]
  },
  {
   "cell_type": "code",
   "execution_count": 2,
   "id": "3eb7236c",
   "metadata": {},
   "outputs": [
    {
     "name": "stdout",
     "output_type": "stream",
     "text": [
      "3\n",
      "3\n"
     ]
    }
   ],
   "source": [
    "A = np.array([[1, 1, 5], [2, 0, 6], [8, 3, 2]])\n",
    "print(rzad_macierzy(A))\n",
    "print(np.linalg.matrix_rank(A))"
   ]
  },
  {
   "cell_type": "code",
   "execution_count": 3,
   "id": "a1ba2842",
   "metadata": {},
   "outputs": [
    {
     "name": "stdout",
     "output_type": "stream",
     "text": [
      "2\n",
      "2\n"
     ]
    }
   ],
   "source": [
    "B = np.array([[3, -1, 1], [5, 1, 4], [-1, 3, 2]])\n",
    "print(rzad_macierzy(B))\n",
    "print(np.linalg.matrix_rank(B))"
   ]
  },
  {
   "cell_type": "code",
   "execution_count": 4,
   "id": "d749bbee",
   "metadata": {},
   "outputs": [
    {
     "name": "stdout",
     "output_type": "stream",
     "text": [
      "4\n",
      "4\n"
     ]
    }
   ],
   "source": [
    "C = np.array([[1, 3, -2, 4], [1, -1, 3, 5], [0, 1, 4, -2], [10, -2, 5, 1]])\n",
    "print(rzad_macierzy(C))\n",
    "print(np.linalg.matrix_rank(C))"
   ]
  },
  {
   "cell_type": "code",
   "execution_count": 5,
   "id": "44a1b368",
   "metadata": {},
   "outputs": [
    {
     "name": "stdout",
     "output_type": "stream",
     "text": [
      "2\n",
      "2\n"
     ]
    }
   ],
   "source": [
    "D = np.array([[2, 8, 3, -4], [1, 4, 1, -2], [5, 20, 0, -10], [-3, -12, -2, 6]])\n",
    "print(rzad_macierzy(D))\n",
    "print(np.linalg.matrix_rank(D))"
   ]
  }
 ],
 "metadata": {
  "kernelspec": {
   "display_name": "Python 3 (ipykernel)",
   "language": "python",
   "name": "python3"
  },
  "language_info": {
   "codemirror_mode": {
    "name": "ipython",
    "version": 3
   },
   "file_extension": ".py",
   "mimetype": "text/x-python",
   "name": "python",
   "nbconvert_exporter": "python",
   "pygments_lexer": "ipython3",
   "version": "3.9.13"
  }
 },
 "nbformat": 4,
 "nbformat_minor": 5
}
